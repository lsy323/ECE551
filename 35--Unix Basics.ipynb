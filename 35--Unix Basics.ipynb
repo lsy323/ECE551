{
 "cells": [
  {
   "cell_type": "markdown",
   "metadata": {},
   "source": [
    "### basic command(man&ls)\n",
    "\n",
    "use man for check the manual for a comman\n",
    "\n",
    "e.g. `man -S3 printf`, display man page for printf function from C library\n",
    "\n",
    "-S3 and printf are arguments, -S3 is an option for the command \"man\"\n",
    "\n",
    "e.g. `ls`: `-l` for long format(with more details) `-h` for providing human readable sizes\n",
    "\n",
    "use man to look for keyword:\n",
    "`man -k compare`"
   ]
  },
  {
   "cell_type": "markdown",
   "metadata": {},
   "source": [
    "### cat, tail and head\n",
    "`cat <filenames>`: print to the command line\n",
    "\n",
    "`cat`: print the input, useful when redirect the output\n",
    "\n",
    "`tail or head -n10 <filenames>` output the first or last 10 lines of a file"
   ]
  },
  {
   "cell_type": "markdown",
   "metadata": {},
   "source": [
    "### Pattern Expansion\n",
    "\n",
    "#### Globbing\n",
    "`*`: match anything (using \\* to specify the character *)\n",
    "\n",
    "`?`: match a character\n",
    "\n",
    "`[...]`: match the set of characters.e.g.file0[123] will match file01 file02 file03\n",
    "\n",
    "`[!...]` match files not included in the set\n",
    "\n",
    "#### Braces\n",
    "`rm file{1,a,X}`: same as `rm file[1aX]` remove file1, filea, fileX\n",
    "\n",
    "#### difference between globbing and braces\n",
    "globbing operates on the file names in the local directory, not able to work on a remote server\n",
    "\n",
    "braces can match longer choices. e.g. {abc,xyz}.txt\n",
    "\n",
    "braces can paring expansions. e.g. {a,b,c}{1,2,3}expends to {a1,a2...c1,c2,c3}"
   ]
  },
  {
   "cell_type": "markdown",
   "metadata": {},
   "source": [
    "### redirection\n",
    "use < to redirect input and > to redirect output\n",
    "\n",
    "e.g. `./myProgram < file1.txt > output.txt`\n",
    "\n",
    "runs the program myProgram with input file1.txt and output to output.txt\n",
    "\n",
    "use <> to redirect a file for both reading and writing\n",
    "\n",
    "use >> to append the original contents of the file\n",
    "\n",
    "use 2>&1 to redirect one file descriptor(eg.2) to refer to the same file as another(eg.1)\n",
    "\n",
    "here document"
   ]
  },
  {
   "cell_type": "markdown",
   "metadata": {},
   "source": [
    "### Search\n",
    "\n",
    "using `grep`: grep '^.\\{\\3}m.*$' path\n",
    "\n",
    "using find: find path -name filename"
   ]
  },
  {
   "cell_type": "markdown",
   "metadata": {},
   "source": [
    "`tr <original string> <new string>`: Replace strings\n",
    "\n",
    "e.g. $ echo \"This is for testing\" | tr [:space:] '\\t'\n",
    "\n",
    "This    is    for    testing"
   ]
  },
  {
   "cell_type": "code",
   "execution_count": null,
   "metadata": {
    "collapsed": true
   },
   "outputs": [],
   "source": []
  }
 ],
 "metadata": {
  "anaconda-cloud": {},
  "kernelspec": {
   "display_name": "Python [conda env:tensorflow]",
   "language": "python",
   "name": "conda-env-tensorflow-py"
  },
  "language_info": {
   "codemirror_mode": {
    "name": "ipython",
    "version": 3
   },
   "file_extension": ".py",
   "mimetype": "text/x-python",
   "name": "python",
   "nbconvert_exporter": "python",
   "pygments_lexer": "ipython3",
   "version": "3.6.1"
  }
 },
 "nbformat": 4,
 "nbformat_minor": 1
}
